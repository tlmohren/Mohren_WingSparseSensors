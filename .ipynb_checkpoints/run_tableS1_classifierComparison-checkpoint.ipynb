{
 "cells": [
  {
   "cell_type": "code",
   "execution_count": 1,
   "metadata": {
    "collapsed": true
   },
   "outputs": [],
   "source": [
    "import numpy as np\n",
    "import matplotlib.pyplot as plt \n",
    "import pandas as pd\n",
    "from scipy.io import loadmat\n",
    "\n",
    "from sklearn.discriminant_analysis import LinearDiscriminantAnalysis\n",
    "from sklearn.svm import SVC\n",
    "from sklearn.tree import DecisionTreeClassifier\n",
    "from sklearn.ensemble import RandomForestClassifier\n",
    "from sklearn.discriminant_analysis import QuadraticDiscriminantAnalysis \n",
    "from sklearn.neural_network import MLPClassifier\n",
    "\n",
    "from sklearn.preprocessing import StandardScaler  "
   ]
  },
  {
   "cell_type": "code",
   "execution_count": null,
   "metadata": {
    "collapsed": true
   },
   "outputs": [],
   "source": [
    "train_ratio = 0.9\n",
    "L = 3000;\n",
    "ind_start = 1000\n",
    "n_train = round(L*train_ratio)\n",
    "n_test = round(L*(1-train_ratio) )\n",
    "trainInd = np.arange(0,n_train, dtype=np.uint16)\n",
    "testInd = np.arange(n_train,L, dtype=np.uint16)"
   ]
  },
  {
   "cell_type": "code",
   "execution_count": null,
   "metadata": {},
   "outputs": [
    {
     "name": "stderr",
     "output_type": "stream",
     "text": [
      "D:\\D_program_files\\Anaconda3\\lib\\site-packages\\sklearn\\discriminant_analysis.py:387: UserWarning: Variables are collinear.\n",
      "  warnings.warn(\"Variables are collinear.\")\n"
     ]
    }
   ],
   "source": [
    "names = [\"LDA\",\n",
    "         \"Linear SVM\",\n",
    "         \"sigmoid kernel SVM\", \n",
    "         \"quadratic kernel  SVM\", \n",
    "         \"rbf kernel SVM\", \n",
    "         \"Decision Tree\",\n",
    "         \"Neural Net logistic\",\n",
    "         \"Neural Net LRU\"]\n",
    "classifiers = [LinearDiscriminantAnalysis(),\n",
    "              SVC(kernel=\"linear\"), \n",
    "              SVC(kernel=\"sigmoid\"), \n",
    "              SVC(kernel=\"poly\"), \n",
    "              SVC(kernel=\"rbf\"), \n",
    "              DecisionTreeClassifier(max_depth=5),\n",
    "              MLPClassifier( activation='tanh'),\n",
    "              MLPClassifier( activation='relu')]\n",
    "\n",
    "n_iter = 10\n",
    "df = pd.DataFrame(index = np.arange(1,n_iter+1),columns = names)\n",
    "\n",
    "scaler = StandardScaler()  \n",
    "\n",
    "for name, clf in zip(names, classifiers):\n",
    "    for j in np.arange(1,n_iter+1):\n",
    "        # load data\n",
    "        strainData = loadmat(\"eulerLagrangeData/strainSet_th0.1ph0.312it\"+str(j)+\"harm0.2\")\n",
    "        \n",
    "        # split data into training and testing \n",
    "        Xtrain = np.concatenate((  strainData['strain_0'][:,trainInd],  strainData['strain_10'][:,trainInd]   ) , axis=1).transpose()\n",
    "        Ytrain = np.concatenate(( np.zeros(n_train), np.ones(n_train)), axis = 0)\n",
    "        Xtest = np.concatenate((  strainData['strain_0'][:,testInd],  strainData['strain_10'][:,testInd]   ) , axis=1).transpose()\n",
    "        Ytest = np.concatenate(( np.zeros(n_test), np.ones(n_test)), axis = 0)\n",
    "        \n",
    "        \n",
    "        # Don't cheat - fit only on training data\n",
    "        scaler.fit(Xtrain)  \n",
    "        Xtrain = scaler.transform(Xtrain)  \n",
    "        Xtest = scaler.transform(Xtest)  \n",
    "\n",
    "        clf.fit(Xtrain,Ytrain)\n",
    "        score = clf.score(Xtest,Ytest)\n",
    "        df.loc[j][name] = score\n",
    "        \n",
    "print( ) \n",
    "print('Average accuracy over ', n_iter, 'trials') \n",
    "print( df.loc[:].mean() ,'\\n' )\n",
    "print( df.loc[:].std()   )"
   ]
  },
  {
   "cell_type": "code",
   "execution_count": null,
   "metadata": {
    "collapsed": true
   },
   "outputs": [],
   "source": []
  }
 ],
 "metadata": {
  "kernelspec": {
   "display_name": "Python 3",
   "language": "python",
   "name": "python3"
  },
  "language_info": {
   "codemirror_mode": {
    "name": "ipython",
    "version": 3
   },
   "file_extension": ".py",
   "mimetype": "text/x-python",
   "name": "python",
   "nbconvert_exporter": "python",
   "pygments_lexer": "ipython3",
   "version": "3.6.1"
  }
 },
 "nbformat": 4,
 "nbformat_minor": 2
}
