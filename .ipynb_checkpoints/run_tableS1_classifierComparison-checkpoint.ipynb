{
 "cells": [
  {
   "cell_type": "code",
   "execution_count": 1,
   "metadata": {
    "collapsed": true
   },
   "outputs": [],
   "source": [
    "import numpy as np\n",
    "import matplotlib.pyplot as plt \n",
    "import pandas as pd\n",
    "from scipy.io import loadmat\n",
    "\n",
    "from sklearn.discriminant_analysis import LinearDiscriminantAnalysis\n",
    "from sklearn.svm import SVC\n",
    "from sklearn.tree import DecisionTreeClassifier\n",
    "from sklearn.ensemble import RandomForestClassifier\n",
    "from sklearn.discriminant_analysis import QuadraticDiscriminantAnalysis \n",
    "from sklearn.neural_network import MLPClassifier"
   ]
  },
  {
   "cell_type": "code",
   "execution_count": 2,
   "metadata": {
    "collapsed": true
   },
   "outputs": [],
   "source": [
    "train_ratio = 0.9\n",
    "L = 3000;\n",
    "ind_start = 1000\n",
    "n_train = round(L*train_ratio)\n",
    "n_test = round(L*(1-train_ratio) )\n",
    "trainInd = np.arange(0,n_train, dtype=np.uint16)\n",
    "testInd = np.arange(n_train,L, dtype=np.uint16)"
   ]
  },
  {
   "cell_type": "code",
   "execution_count": 4,
   "metadata": {},
   "outputs": [
    {
     "ename": "SyntaxError",
     "evalue": "invalid syntax (<ipython-input-4-611c957217f8>, line 12)",
     "output_type": "error",
     "traceback": [
      "\u001b[1;36m  File \u001b[1;32m\"<ipython-input-4-611c957217f8>\"\u001b[1;36m, line \u001b[1;32m12\u001b[0m\n\u001b[1;33m    SVC(kernel=\"linear\",C=0.025),\u001b[0m\n\u001b[1;37m      ^\u001b[0m\n\u001b[1;31mSyntaxError\u001b[0m\u001b[1;31m:\u001b[0m invalid syntax\n"
     ]
    }
   ],
   "source": [
    "names = [\"LDA\",\n",
    "         \"Linear SVM\",\n",
    "         \"sigmoid kernel SVM\", \n",
    "         \"quadratic kernel  SVM\", \n",
    "         \"rbf kernel SVM\", \n",
    "         \"Decision Tree\",\n",
    "         \"Random Forest\",\n",
    "         \"Neural Net\",\n",
    "         \"Neural Net LRU\",\n",
    "         \"Neural Net logistic\"]\n",
    "classifiers = [LinearDiscriminantAnalysis()\n",
    "              SVC(kernel=\"linear\",C=0.025), \n",
    "              SVC(kernel=\"sigmoid\",C=0.025), \n",
    "              SVC(kernel=\"poly\",C=0.025), \n",
    "              SVC(kernel=\"rbf\",C=0.025), \n",
    "              DecisionTreeClassifier(max_depth=5),\n",
    "              RandomForestClassifier(max_depth=5,n_estimators =10, max_features=1),\n",
    "              MLPClassifier(alpha=1),\n",
    "              MLPClassifier( activation='relu'),\n",
    "              MLPClassifier(hidden_layer_sizes = 1326, activation='logistic', alpha=1)]\n",
    "\n",
    "n_iter = 1\n",
    "df = pd.DataFrame(index = np.arange(1,n_iter+1),columns = names)\n",
    "\n",
    "for name, clf in zip(names, classifiers):\n",
    "    for j in np.arange(1,n_iter+1):\n",
    "        # load data\n",
    "        strainData = loadmat(\"eulerLagrangeData/strainSet_th0.1ph0.312it\"+str(j)+\"harm0.2\")\n",
    "        \n",
    "        # split data into training and testing \n",
    "        Xtrain = np.concatenate((  strainData['strain_0'][:,trainInd],  strainData['strain_10'][:,trainInd]   ) , axis=1).transpose()\n",
    "        Ytrain = np.concatenate(( np.zeros(n_train), np.ones(n_train)), axis = 0)\n",
    "        Xtest = np.concatenate((  strainData['strain_0'][:,testInd],  strainData['strain_10'][:,testInd]   ) , axis=1).transpose()\n",
    "        Ytest = np.concatenate(( np.zeros(n_test), np.ones(n_test)), axis = 0)\n",
    "        \n",
    "        # fit classifier to training data\n",
    "        clf.fit(Xtrain,Ytrain)\n",
    "        # test classifier on test data \n",
    "        score = clf.score(Xtest,Ytest)\n",
    "        # assign value in dataframe\n",
    "        df.loc[j][name] = score\n",
    "        \n",
    "        print(name, score)\n",
    "        \n",
    "df.mean()"
   ]
  },
  {
   "cell_type": "code",
   "execution_count": null,
   "metadata": {
    "collapsed": true
   },
   "outputs": [],
   "source": []
  }
 ],
 "metadata": {
  "kernelspec": {
   "display_name": "Python 3",
   "language": "python",
   "name": "python3"
  },
  "language_info": {
   "codemirror_mode": {
    "name": "ipython",
    "version": 3
   },
   "file_extension": ".py",
   "mimetype": "text/x-python",
   "name": "python",
   "nbconvert_exporter": "python",
   "pygments_lexer": "ipython3",
   "version": "3.6.1"
  }
 },
 "nbformat": 4,
 "nbformat_minor": 2
}
