{
 "cells": [
  {
   "cell_type": "code",
   "execution_count": 1,
   "metadata": {
    "collapsed": true
   },
   "outputs": [],
   "source": [
    "import numpy as np\n",
    "import matplotlib.pyplot as plt \n",
    "import pandas as pd\n",
    "\n",
    "from sklearn.svm import SVC\n",
    "from sklearn.tree import DecisionTreeClassifier\n",
    "from sklearn.ensemble import RandomForestClassifier\n",
    "from sklearn.discriminant_analysis import QuadraticDiscriminantAnalysis \n",
    "from sklearn.neural_network import MLPClassifier"
   ]
  },
  {
   "cell_type": "code",
   "execution_count": 2,
   "metadata": {
    "collapsed": true
   },
   "outputs": [],
   "source": [
    "from scipy.io import loadmat\n",
    "strainData = loadmat('eulerLagrangeData/strainSet_th0.1ph0.312it1harm0.2')"
   ]
  },
  {
   "cell_type": "code",
   "execution_count": 3,
   "metadata": {},
   "outputs": [],
   "source": [
    "strain_0 = strainData['strain_0'][:,1000:4001]\n",
    "strain_10 = strainData['strain_10'][:,1000:4001]\n",
    "\n",
    "train_ratio = 0.9\n",
    "L = 3000;\n",
    "ind_start = 1000\n",
    "n_train = round(L*train_ratio)\n",
    "n_test = round(L*(1-train_ratio) )\n",
    "trainInd = np.arange(0,n_train, dtype=np.uint16)\n",
    "testInd = np.arange(n_train,L, dtype=np.uint16)\n",
    "\n",
    "names = [\"Linear SVM\", \"Decision Tree\",\"Random Forest\",\"Quadratic Discriminant Analysis\",\"Neural Net\"]\n",
    "classifiers = [SVC(kernel=\"linear\",C=0.025), \n",
    "              DecisionTreeClassifier(max_depth=5),\n",
    "              RandomForestClassifier(max_depth=5,n_estimators =10, max_features=1),\n",
    "              QuadraticDiscriminantAnalysis(),\n",
    "              MLPClassifier(alpha=1)]\n",
    "\n",
    "# Xtrain.shape,Ytrain.shape, Xtest.shape,Ytest.shape"
   ]
  },
  {
   "cell_type": "code",
   "execution_count": null,
   "metadata": {},
   "outputs": [],
   "source": [
    "# for name, clf in zip(names, classifiers):\n",
    "#     clf.fit(Xtrain,Ytrain)\n",
    "#     score = clf.score(Xtest,Ytest)\n",
    "#     print(name, score)"
   ]
  },
  {
   "cell_type": "code",
   "execution_count": null,
   "metadata": {},
   "outputs": [
    {
     "name": "stdout",
     "output_type": "stream",
     "text": [
      "Linear SVM 0.495\n"
     ]
    }
   ],
   "source": [
    "n_iter = 2\n",
    "df = pd.DataFrame(index = np.arange(1,n_iter),columns = names)\n",
    "for name, clf in zip(names, classifiers):\n",
    "    for j in range(n_iter):\n",
    "        strainData = loadmat(\"eulerLagrangeData/strainSet_th1ph31.2it\"+str(j+1)+\"harm0.2\")\n",
    "        \n",
    "        # split data into training and testing \n",
    "        Xtrain = np.concatenate((  strainData['strain_0'][:,trainInd],  strainData['strain_10'][:,trainInd]   ) , axis=1).transpose()\n",
    "        Ytrain = np.concatenate(( np.zeros(n_train), np.ones(n_train)), axis = 0)\n",
    "        Xtest = np.concatenate((  strainData['strain_0'][:,testInd],  strainData['strain_10'][:,testInd]   ) , axis=1).transpose()\n",
    "        Ytest = np.concatenate(( np.zeros(n_test), np.ones(n_test)), axis = 0)\n",
    "        \n",
    "        # fit classifier to training data\n",
    "        clf.fit(Xtrain,Ytrain)\n",
    "        # test classifier on test data \n",
    "        score = clf.score(Xtest,Ytest)\n",
    "        \n",
    "        df[\"Linear SVM\"][j] = score\n",
    "        print(name, score)"
   ]
  },
  {
   "cell_type": "code",
   "execution_count": null,
   "metadata": {
    "collapsed": true
   },
   "outputs": [],
   "source": [
    "df.mean()"
   ]
  }
 ],
 "metadata": {
  "kernelspec": {
   "display_name": "Python 3",
   "language": "python",
   "name": "python3"
  },
  "language_info": {
   "codemirror_mode": {
    "name": "ipython",
    "version": 3
   },
   "file_extension": ".py",
   "mimetype": "text/x-python",
   "name": "python",
   "nbconvert_exporter": "python",
   "pygments_lexer": "ipython3",
   "version": "3.6.1"
  }
 },
 "nbformat": 4,
 "nbformat_minor": 2
}
