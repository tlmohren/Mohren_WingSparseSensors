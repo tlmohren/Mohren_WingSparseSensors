{
 "cells": [
  {
   "cell_type": "code",
   "execution_count": 41,
   "metadata": {
    "collapsed": true
   },
   "outputs": [],
   "source": [
    "import numpy as np\n",
    "import matplotlib.pyplot as plt \n",
    "import pandas as pd\n",
    "from scipy.io import loadmat\n",
    "\n",
    "from sklearn.svm import SVC\n",
    "from sklearn.tree import DecisionTreeClassifier\n",
    "from sklearn.ensemble import RandomForestClassifier\n",
    "from sklearn.discriminant_analysis import QuadraticDiscriminantAnalysis \n",
    "from sklearn.neural_network import MLPClassifier"
   ]
  },
  {
   "cell_type": "code",
   "execution_count": 43,
   "metadata": {},
   "outputs": [
    {
     "name": "stdout",
     "output_type": "stream",
     "text": [
      "Linear SVM 0.5\n",
      "Linear SVM 0.5\n",
      "Non-Linear SVM 0.5\n",
      "Non-Linear SVM 0.5\n",
      "Decision Tree 0.621666666667\n",
      "Decision Tree 0.625\n",
      "Random Forest 0.586666666667\n",
      "Random Forest 0.638333333333\n"
     ]
    },
    {
     "name": "stderr",
     "output_type": "stream",
     "text": [
      "D:\\D_program_files\\Anaconda3\\lib\\site-packages\\sklearn\\discriminant_analysis.py:695: UserWarning: Variables are collinear\n",
      "  warnings.warn(\"Variables are collinear\")\n"
     ]
    },
    {
     "name": "stdout",
     "output_type": "stream",
     "text": [
      "Quadratic Discriminant Analysis 0.575\n",
      "Quadratic Discriminant Analysis 0.99\n",
      "Neural Net LRU 0.5\n",
      "Neural Net LRU 0.5\n",
      "Neural Net sigmoid 0.5\n",
      "Neural Net sigmoid 0.5\n"
     ]
    },
    {
     "data": {
      "text/plain": [
       "Linear SVM                         0.500000\n",
       "Non-Linear SVM                     0.500000\n",
       "Decision Tree                      0.623333\n",
       "Random Forest                      0.612500\n",
       "Quadratic Discriminant Analysis    0.782500\n",
       "Neural Net LRU                     0.500000\n",
       "Neural Net sigmoid                 0.500000\n",
       "dtype: float64"
      ]
     },
     "execution_count": 43,
     "metadata": {},
     "output_type": "execute_result"
    }
   ],
   "source": [
    "train_ratio = 0.9\n",
    "L = 3000;\n",
    "ind_start = 1000\n",
    "n_train = round(L*train_ratio)\n",
    "n_test = round(L*(1-train_ratio) )\n",
    "trainInd = np.arange(0,n_train, dtype=np.uint16)\n",
    "testInd = np.arange(n_train,L, dtype=np.uint16)\n",
    "\n",
    "names = [\"Linear SVM\",\n",
    "         \"sigmoid kernel SVM\", \n",
    "         \"quadratic kernel  SVM\", \n",
    "         \"rbf kernel SVM\", \n",
    "         \"Decision Tree\",\n",
    "         \"Random Forest\",\n",
    "         \"Quadratic Discriminant Analysis\",\n",
    "         \"Neural Net LRU\",\n",
    "         \"Neural Net sigmoid\"]\n",
    "classifiers = [SVC(kernel=\"linear\",C=0.025), \n",
    "              SVC(kernel=\"sigmoid\",C=0.025), \n",
    "              SVC(kernel=\"quadratic\",C=0.025), \n",
    "              SVC(kernel=\"rbf\",C=0.025), \n",
    "              DecisionTreeClassifier(max_depth=5),\n",
    "              RandomForestClassifier(max_depth=5,n_estimators =10, max_features=1),\n",
    "              QuadraticDiscriminantAnalysis(),\n",
    "              MLPClassifier(alpha=1),\n",
    "              MLPClassifier(hidden_layer_sizes = 1326, activation='logistic', alpha=1)]\n",
    "\n",
    "n_iter = 2\n",
    "df = pd.DataFrame(index = np.arange(1,n_iter+1),columns = names)\n",
    "\n",
    "for name, clf in zip(names, classifiers):\n",
    "    for j in np.arange(1,n_iter+1):\n",
    "        strainData = loadmat(\"eulerLagrangeData/strainSet_th0.1ph0.312it\"+str(j)+\"harm0.2\")\n",
    "        \n",
    "        # split data into training and testing \n",
    "        Xtrain = np.concatenate((  strainData['strain_0'][:,trainInd],  strainData['strain_10'][:,trainInd]   ) , axis=1).transpose()\n",
    "        Ytrain = np.concatenate(( np.zeros(n_train), np.ones(n_train)), axis = 0)\n",
    "        Xtest = np.concatenate((  strainData['strain_0'][:,testInd],  strainData['strain_10'][:,testInd]   ) , axis=1).transpose()\n",
    "        Ytest = np.concatenate(( np.zeros(n_test), np.ones(n_test)), axis = 0)\n",
    "        \n",
    "        # fit classifier to training data\n",
    "        clf.fit(Xtrain,Ytrain)\n",
    "        # test classifier on test data \n",
    "        score = clf.score(Xtest,Ytest)\n",
    "        # assign value in dataframe\n",
    "        df.loc[j][name] = score\n",
    "        \n",
    "        print(name, score)\n",
    "        \n",
    "df.mean()"
   ]
  },
  {
   "cell_type": "code",
   "execution_count": null,
   "metadata": {
    "collapsed": true
   },
   "outputs": [],
   "source": []
  }
 ],
 "metadata": {
  "kernelspec": {
   "display_name": "Python 3",
   "language": "python",
   "name": "python3"
  },
  "language_info": {
   "codemirror_mode": {
    "name": "ipython",
    "version": 3
   },
   "file_extension": ".py",
   "mimetype": "text/x-python",
   "name": "python",
   "nbconvert_exporter": "python",
   "pygments_lexer": "ipython3",
   "version": "3.6.1"
  }
 },
 "nbformat": 4,
 "nbformat_minor": 2
}
